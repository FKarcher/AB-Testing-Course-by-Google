{
 "cells": [
  {
   "cell_type": "markdown",
   "metadata": {},
   "source": [
    "# Capstone Project: A/B Testing Course by Google\n",
    "1. [Udacity's A/B Testing Course by Google](#1)<br>\n",
    "2. [Experiment Overview: Free Trial Screener](#2)<br>\n",
    "    [2.1 Description of original conditions](#2.1)<br>\n",
    "    [2.2 Description of the experimental change](#2.2)<br>\n",
    "    [2.3 Experiment hypothesis](#2.3)<br>\n",
    "    [2.4 How data are tracked](#2.4)<br>\n",
    "3. [Metric Choice](#3)<br>\n",
    "    [3.1 Choose invariant metrics](#3.1)<br>\n",
    "    [3.2 Choose evaluation metrics](#3.2)<br>\n",
    "4. [Measuring Standard Deviation](#4)<br>\n",
    "    [4.1 Baseline values](#4.1)<br>\n",
    "    [4.2 Calculate the standard deviation](#4.2)<br>\n",
    "5. [Experiment Sizing](#5)<br>\n",
    "    [5.1 Choose sample size](#5.1)<br>\n",
    "    [5.2 Choose duration vs exposure](#5.2)<br>\n",
    "6. [Experimental Analysis](#6)<br>\n",
    "    [6.1 Sanity checks](#6.1)<br>\n",
    "    [6.2 Check for Practical and Statistical Significance](#6.2)<br>\n",
    "    [6.3 Sign tests](#6.3)<br>\n",
    "7. [Conclusion and Recommendation](#7)<br>\n",
    "8. [Follow-up Experiment](#8)<br>"
   ]
  },
  {
   "cell_type": "code",
   "execution_count": 1,
   "metadata": {},
   "outputs": [],
   "source": [
    "import pandas as pd\n",
    "import numpy as np\n",
    "import math"
   ]
  },
  {
   "cell_type": "markdown",
   "metadata": {},
   "source": [
    "## 1. Udacity's A/B Testing Course by Google<a class=\"anchor\" id=\"1\"></a>\n",
    "I recently finished the A/B Testing course by Google on Udacity. I highly recommend this course to people who want to learn how A/B testing is done, and to data scientists who are interested in how data science, python and statistics are applied in real-life business scenarios. The course summarized how to run an A/B test into 5 steps:\n",
    "1. Choose invariant and evalution metrics.\n",
    "2. Choose significance level (alpha), statistical power (1-beta) and practical significance level (the minimum change we want to observe in order to launch the change).\n",
    "3. Calculate required sample size.\n",
    "4. Run the test for control and experiment groups.\n",
    "5. Analyze the results, calulate confidernce intervals of evaludation metrics, and draw conclusions."
   ]
  },
  {
   "cell_type": "markdown",
   "metadata": {},
   "source": [
    "This notebook is a capstone project for this course. The goal of this capstone project is to utlize the skills learned in this course and apply them to a business case using real life data. We want to gain insights about if adding an extra screening step after a student clicks the \"start free trial\" button will reduce the number of frustrated students who left the free trial because they couldn't commit enough hours to the course."
   ]
  },
  {
   "cell_type": "markdown",
   "metadata": {},
   "source": [
    "## 2. Experiment Overview: Free Trial Screener<a class=\"anchor\" id=\"2\"></a>"
   ]
  },
  {
   "cell_type": "markdown",
   "metadata": {},
   "source": [
    "### 2.1 Description of original conditions<a class=\"anchor\" id=\"2.1\"></a>\n",
    "- At the time of this experiment, Udacity currently has two options on the course overview page: \"start free trial\", and \"access course materials\". \n",
    "- If the student clicks \"start free trial\", they will be asked to enter their credit card information, and then they will be enrolled in a free trial for the paid version of the course. After 14 days, they will automatically be charged unless they cancel first. \n",
    "- If the student clicks \"access course materials\", they will be able to view the videos and take the quizzes for free, but they will not receive coaching support or a verified certificate, and they will not submit their final project for feedback."
   ]
  },
  {
   "cell_type": "markdown",
   "metadata": {},
   "source": [
    "### 2.2 Description of the experimental change<a class=\"anchor\" id=\"2.2\"></a>\n",
    "- In the experiment, Udacity tested a change where if the student clicked \"start free trial\", they were asked how much time they had available to devote to the course. \n",
    "- If the student indicated 5 or more hours per week, they would be taken through the checkout process as usual. \n",
    "- If they indicated fewer than 5 hours per week, a message would appear indicating that Udacity courses usually require a greater time commitment for successful completion, and suggesting that the student might like to access the course materials for free. \n",
    "- At this point, the student would have the option to continue enrolling in the free trial, or access the course materials for free instead. This screenshot shows what the experiment looks like.\n",
    "![](Experiment.png)"
   ]
  },
  {
   "cell_type": "markdown",
   "metadata": {},
   "source": [
    "### 2.3 Experiment hypothesis<a class=\"anchor\" id=\"2.3\"></a>\n",
    "\n",
    "The hypothesis was that this might set clearer expectations for students upfront, thus reducing the number of frustrated students who left the free trial because they didn't have enough time—without significantly reducing the number of students to continue past the free trial and eventually pay and complete the course. If this hypothesis held true, Udacity could improve the overall student experience and improve coaches' capacity to support students who are likely to complete the course."
   ]
  },
  {
   "cell_type": "markdown",
   "metadata": {},
   "source": [
    "### 2.4 How data are tracked<a class=\"anchor\" id=\"2.4\"></a>\n",
    "\n",
    "**The unit of diversion is a cookie**, although if the student enrolls in the free trial, they are tracked by user-id from that point forward. The same user-id cannot enroll in the free trial twice. For users that do not enroll, their user-id is not tracked in the experiment, even if they were signed in when they visited the course overview page."
   ]
  },
  {
   "cell_type": "markdown",
   "metadata": {},
   "source": [
    "## 3. Metric Choice<a class=\"anchor\" id=\"3\"></a>"
   ]
  },
  {
   "cell_type": "markdown",
   "metadata": {},
   "source": [
    "Which of the following metrics should we choose to measure for this experiment and why? \n",
    "For each metric we choose, we need to decide whether it is an invariant metric or an evaluation metric. The practical significance boundary for each metric, that is, the difference that would have to be observed before that was a meaningful change for the business, is given in parentheses. All practical significance boundaries are given as absolute changes.\n",
    "Any place \"unique cookies\" are mentioned, the uniqueness is determined by day. (That is, the same cookie visiting on different days would be counted twice.) User-ids are automatically unique since the site does not allow the same user-id to enroll twice."
   ]
  },
  {
   "cell_type": "markdown",
   "metadata": {},
   "source": [
    "- Number of cookies: That is, number of unique cookies to view the course overview page. (dmin=3000)\n",
    "- Number of user-ids: That is, number of users who enroll in the free trial. (dmin=50)\n",
    "- Number of clicks: That is, number of unique cookies to click the \"Start free trial\" button (which happens before the free trial screener is trigger). (dmin=240)\n",
    "- Click-through-probability: That is, number of unique cookies to click the \"Start free trial\" button divided by number of unique cookies to view the course overview page. (dmin=0.01)\n",
    "- Gross conversion: That is, number of user-ids to complete checkout and enroll in the free trial divided by number of unique cookies to click the \"Start free trial\" button. (dmin= 0.01)\n",
    "- Retention: That is, number of user-ids to remain enrolled past the 14-day boundary (and thus make at least one payment) divided by number of user-ids to complete checkout. (dmin=0.01)\n",
    "- Net conversion: That is, number of user-ids to remain enrolled past the 14-day boundary (and thus make at least one payment) divided by the number of unique cookies to click the \"Start free trial\" button. (dmin= 0.0075)"
   ]
  },
  {
   "cell_type": "markdown",
   "metadata": {},
   "source": [
    "### 3.1 Choose invariant metrics<a class=\"anchor\" id=\"3.1\"></a>"
   ]
  },
  {
   "cell_type": "markdown",
   "metadata": {},
   "source": [
    "Invariant metrics are used for \"sanity checks\", i.e., to make sure the way we collect data for the experiment is randomized. We should pick metrics that are not affected by the experiment, so they stay the same in both our control and experiment groups.\n",
    "\n",
    "Number of cookies, number of clicks and click-through-probability (CTR) are chosen as invariant metrics, as they are tracked BEFORE students see the experiment change; these metrics are not affected by the experimental change.\n",
    "\n",
    "Number of user-ids are not chosen as an invariant metric, because they are only tracked AFTER users enroll in a free trial; if they are not enrolled, user-ids are not tracked."
   ]
  },
  {
   "cell_type": "markdown",
   "metadata": {},
   "source": [
    "|Invariant Metrics|Notation|Definition|Dmin|\n",
    "|:---------------:|:------:|:--------:|:--:|\n",
    "|# of cookies|Ck|# of unique cookies to view the course overview page|3000|\n",
    "|# of clicks|Cl|# of unique cookies to click the \"Start free trial\" button|240|\n",
    "|Click-through-probability|CTP|Cl/Ck|0.01|"
   ]
  },
  {
   "cell_type": "markdown",
   "metadata": {},
   "source": [
    "### 3.2 Choose evaluation metrics<a class=\"anchor\" id=\"3.2\"></a>"
   ]
  },
  {
   "cell_type": "markdown",
   "metadata": {},
   "source": [
    "Evaluation metrics are the metrics we expect to change, and represent practical business goals that we aim to achieve. We choose gross conversion, retention and net conversion as evaluation metrics, as they are tracked AFTER the customers click the \"Start free trial\" and there is a change between the control group and the experiment group."
   ]
  },
  {
   "cell_type": "markdown",
   "metadata": {},
   "source": [
    "|Evaluation Metrics|Notation|Definition|Dmin|\n",
    "|:---------------:|:------:|:--------:|:--:|\n",
    "|Gross conversion|GrCon|# of enrolled/Cl|0.01|\n",
    "|Retention|Ret|# of paid/# of enrolled = NetCon/GrCon|0.01|\n",
    "|Net conversion|NetCon|# of paid (and thus make at least one payment)/Cl|0.0075|"
   ]
  },
  {
   "cell_type": "markdown",
   "metadata": {},
   "source": [
    "## 4. Measuring Standard Deviation<a class=\"anchor\" id=\"4\"></a>"
   ]
  },
  {
   "cell_type": "markdown",
   "metadata": {},
   "source": [
    "### 4.1 Baseline values<a class=\"anchor\" id=\"4.1\"></a>"
   ]
  },
  {
   "cell_type": "markdown",
   "metadata": {},
   "source": [
    "Udacity provided rough estimates for these metrics (the numbers have been changed from Udacity's true number); these are how the metrics behave before the change, aka, our baseline values."
   ]
  },
  {
   "cell_type": "markdown",
   "metadata": {},
   "source": [
    "|Metrics|Definition|Estimator|\n",
    "|:-----:|:--------:|:-------:|\n",
    "|# of cookies|Unique cookies to view course overview page per day|40000|\n",
    "|# of clicks|Unique cookies to click \"Start free trial\" per day|3200|\n",
    "|# of enrollments|Enrollments in the free trial per day|660|\n",
    "|CTP|Click-through-probability on \"Start free trial\"|0.08|\n",
    "|Gross conversion|Probability of enrollment, given click|0.20625|\n",
    "|Retention|Probability of payment, given enroll|0.53|\n",
    "|Net conversion|Probability of payment, given click|0.1093125|"
   ]
  },
  {
   "cell_type": "markdown",
   "metadata": {},
   "source": [
    "### 4.2 Calculate the standard deviation<a class=\"anchor\" id=\"4.2\"></a>"
   ]
  },
  {
   "cell_type": "markdown",
   "metadata": {},
   "source": [
    "For metrics we selected as our evalution metric: gross conversion, retention and net conversion, let's make an analytic estimate of its standard deviation, given **a sample size of 5000 cookies** visiting the course overview page."
   ]
  },
  {
   "cell_type": "markdown",
   "metadata": {},
   "source": [
    "First, we need to scale estimators to our sample size. In this case, from 40000 \"unique cookies to view course overview page per day: to 5000 for our sample size."
   ]
  },
  {
   "cell_type": "code",
   "execution_count": 2,
   "metadata": {},
   "outputs": [],
   "source": [
    "# Put base estimators into a dictionary\n",
    "baseline = {'cookies':40000, 'clicks':3200, 'enrollments':660, 'CTP':0.08, \"GrCon\":0.20625, \"Retention\":0.53, \"NetCon\":0.1093125}"
   ]
  },
  {
   "cell_type": "code",
   "execution_count": 3,
   "metadata": {},
   "outputs": [
    {
     "data": {
      "text/plain": [
       "{'cookies': 5000,\n",
       " 'clicks': 400.0,\n",
       " 'enrollments': 82.5,\n",
       " 'CTP': 0.08,\n",
       " 'GrCon': 0.20625,\n",
       " 'Retention': 0.53,\n",
       " 'NetCon': 0.1093125}"
      ]
     },
     "execution_count": 3,
     "metadata": {},
     "output_type": "execute_result"
    }
   ],
   "source": [
    "# Scale estimators to our sample size\n",
    "baseline2 = baseline.copy()\n",
    "baseline2['cookies'] = 5000\n",
    "baseline2['clicks'] = baseline['clicks']*(5000/40000)\n",
    "baseline2['enrollments'] = baseline['enrollments']*(5000/40000)\n",
    "baseline2"
   ]
  },
  {
   "cell_type": "markdown",
   "metadata": {},
   "source": [
    "In order to estimate variances analytically, we can assume probability ($\\hat {p}$) are binomially distributed; so we can use the following equation to calculate standard deviation. This equation only works when the unit of diversion of the experiment is equal to unit of the analysis (the denominator of the metric formula). In our case, both the unit of diversion and the unit of analysis are cookies."
   ]
  },
  {
   "cell_type": "markdown",
   "metadata": {},
   "source": [
    "<br>\n",
    "<center><font size=\"4\">$SD=\\sqrt{\\frac{\\hat{p}*(1-\\hat{p})}{n}}$</font></center><br>\n",
    "$\\hat {p}$: baseline proability for the event to occur\n",
    "\n",
    "*n*: sample size"
   ]
  },
  {
   "cell_type": "markdown",
   "metadata": {},
   "source": [
    "- Gross Conversion"
   ]
  },
  {
   "cell_type": "code",
   "execution_count": 4,
   "metadata": {},
   "outputs": [
    {
     "data": {
      "text/plain": [
       "0.0202"
      ]
     },
     "execution_count": 4,
     "metadata": {},
     "output_type": "execute_result"
    }
   ],
   "source": [
    "G = {}\n",
    "G['p'] = baseline2['GrCon']\n",
    "G['n'] = baseline2['clicks'] # the unit of diversion is clicks (after scaled)\n",
    "G['sd'] = round(math.sqrt(G['p']*(1-G['p'])/G['n']),4)\n",
    "G['sd']"
   ]
  },
  {
   "cell_type": "markdown",
   "metadata": {},
   "source": [
    "- Retention"
   ]
  },
  {
   "cell_type": "code",
   "execution_count": 5,
   "metadata": {},
   "outputs": [
    {
     "data": {
      "text/plain": [
       "0.0549"
      ]
     },
     "execution_count": 5,
     "metadata": {},
     "output_type": "execute_result"
    }
   ],
   "source": [
    "R = {}\n",
    "R['p'] = baseline2['Retention']\n",
    "R['n'] = baseline2['enrollments'] # the unit of diversion is enrollment (after scaled)\n",
    "R['sd'] = round(math.sqrt(R['p']*(1-R['p'])/R['n']),4)\n",
    "R['sd']"
   ]
  },
  {
   "cell_type": "markdown",
   "metadata": {},
   "source": [
    "- Net Conversion"
   ]
  },
  {
   "cell_type": "code",
   "execution_count": 6,
   "metadata": {},
   "outputs": [
    {
     "data": {
      "text/plain": [
       "0.0156"
      ]
     },
     "execution_count": 6,
     "metadata": {},
     "output_type": "execute_result"
    }
   ],
   "source": [
    "N = {}\n",
    "N['p'] = baseline2['NetCon']\n",
    "N['n'] = baseline2['clicks'] # the unit of diversion is clicks (after scaled)\n",
    "N['sd'] = round(math.sqrt(N['p']*(1-N['p'])/N['n']),4)\n",
    "N['sd']"
   ]
  },
  {
   "cell_type": "markdown",
   "metadata": {},
   "source": [
    "## 5. Experiment Sizing<a class=\"anchor\" id=\"5\"></a>"
   ]
  },
  {
   "cell_type": "markdown",
   "metadata": {},
   "source": [
    "### 5.1 Choose sample size<a class=\"anchor\" id=\"5.1\"></a>"
   ]
  },
  {
   "cell_type": "markdown",
   "metadata": {},
   "source": [
    "In order to calculate the sample size, we need to know the significance level alpha (set to 0.05), statistical power (1-beta, set to 0.8), baseline conversion rate (provided by Udacity) and minimum detectable effect (Dmin, provided by Udacity). We plug these 4 values into this [online calculator](http://www.evanmiller.org/ab-testing/sample-size.html) and get the sample size. Here is an illustration of the sample size online calculator."
   ]
  },
  {
   "cell_type": "markdown",
   "metadata": {},
   "source": [
    "![](sample_size.png)"
   ]
  },
  {
   "cell_type": "markdown",
   "metadata": {},
   "source": [
    "Once we have calulated the sample size, we can convert it to pageviews. Here is a summary of **pageviews** required for each evaluation metrics to achieve targeted statistical power."
   ]
  },
  {
   "cell_type": "markdown",
   "metadata": {},
   "source": [
    "Gross Conversion\n",
    "- Baseline conversion: 20.625%\n",
    "- Minimum Detectable effect: 1%\n",
    "- Alpha: 5%\n",
    "- Power: 80%\n",
    "- Sample size (calulated using the online calculator): 25,835 enrollments/group\n",
    "- Number of groups: 2 (experiment and control)\n",
    "- Total sample size = 25835*2 = 51,670 enrollments\n",
    "- Clicks/pageviews: 3200/40,000\n",
    "- Pageview required = enrollments/(clicks/pageviews)=51670/(3200/40000) = 645,875"
   ]
  },
  {
   "cell_type": "markdown",
   "metadata": {},
   "source": [
    "Retention\n",
    "- Baseline conversion: 53%\n",
    "- Minimum Detectable effect: 1%\n",
    "- Alpha: 5%\n",
    "- Power: 80%\n",
    "- Sample size (calulated using the online calculator): 39,155 enrollments/group\n",
    "- Number of groups: 2 (experiment and control)\n",
    "- Total sample size = 39155*2 = 78,230 enrollments\n",
    "- Enrollments/pageviews: 660/40,000\n",
    "- Pageview required = enrollments/(enrollment/pageviews)=78230/(660/40000) = 4,741,212"
   ]
  },
  {
   "cell_type": "markdown",
   "metadata": {},
   "source": [
    "Net Conversion\n",
    "- Baseline conversion: 10.93125%\n",
    "- Minimum Detectable effect: 0.75%\n",
    "- Alpha: 5%\n",
    "- Power: 80%\n",
    "- Sample size (calulated using the online calculator): 27,413 enrollments/group\n",
    "- Number of groups: 2 (experiment and control)\n",
    "- Total sample size = 27413*2 = 54,826 enrollments\n",
    "- Clicks/pageviews: 3200/40,000\n",
    "- Pageview required = enrollments/(clicks/pageviews)=54826/(3200/40000) = 685,325"
   ]
  },
  {
   "cell_type": "markdown",
   "metadata": {},
   "source": [
    "The required pageviews is the maximum of pageviews for all three evaluation metrics, i.e., 4,741,212 pageviews."
   ]
  },
  {
   "cell_type": "markdown",
   "metadata": {},
   "source": [
    "### 5.2 Choose duration vs exposure<a class=\"anchor\" id=\"5.2\"></a>"
   ]
  },
  {
   "cell_type": "markdown",
   "metadata": {},
   "source": [
    "Let's assume we direct 80% of the web traffic to this experiment. Given 40,000 pageviews per day, the experiment would take 148 day to achieve the required 4,741,212 pageviews. This would take too long and is not practical, since We have to wait for 5 months for the experimental results in order to make a business decision. Therefore we have to drop rentention as an evaluation metric.\n",
    "Now we are left with two evaluation metrics; this reduced the number of pageviews required to 685,325. The experiment will takes about 22 days to achieve the required pageviews."
   ]
  },
  {
   "cell_type": "markdown",
   "metadata": {},
   "source": [
    "## 6. Experimental Analysis<a class=\"anchor\" id=\"6\"></a>"
   ]
  },
  {
   "cell_type": "markdown",
   "metadata": {},
   "source": [
    "### 6.1 Sanity checks<a class=\"anchor\" id=\"6.1\"></a>"
   ]
  },
  {
   "cell_type": "markdown",
   "metadata": {},
   "source": [
    "Let's check if the **invariant** metrics are randomly split between the control and experiment group. We can assume a binomial distribution here; confidence level is set at 95%. If sanity check fails, look at the day-by-day data to see if they are any anomalies that can give us some insights into what might be the problem. Do not proceed to the rest of the analysis unless all sanity checks pass."
   ]
  },
  {
   "cell_type": "markdown",
   "metadata": {},
   "source": [
    "The data are provided by Udacity as two spreadsheets (control and experimental groups). We'll load them into pandas dataframe."
   ]
  },
  {
   "cell_type": "code",
   "execution_count": 7,
   "metadata": {},
   "outputs": [
    {
     "name": "stdout",
     "output_type": "stream",
     "text": [
      "           Date  Pageviews  Clicks  Enrollments  Payments\n",
      "0   Sat, Oct 11       7723     687        134.0      70.0\n",
      "1   Sun, Oct 12       9102     779        147.0      70.0\n",
      "2   Mon, Oct 13      10511     909        167.0      95.0\n",
      "3   Tue, Oct 14       9871     836        156.0     105.0\n",
      "4   Wed, Oct 15      10014     837        163.0      64.0\n",
      "5   Thu, Oct 16       9670     823        138.0      82.0\n",
      "6   Fri, Oct 17       9008     748        146.0      76.0\n",
      "7   Sat, Oct 18       7434     632        110.0      70.0\n",
      "8   Sun, Oct 19       8459     691        131.0      60.0\n",
      "9   Mon, Oct 20      10667     861        165.0      97.0\n",
      "10  Tue, Oct 21      10660     867        196.0     105.0\n",
      "11  Wed, Oct 22       9947     838        162.0      92.0\n",
      "12  Thu, Oct 23       8324     665        127.0      56.0\n",
      "13  Fri, Oct 24       9434     673        220.0     122.0\n",
      "14  Sat, Oct 25       8687     691        176.0     128.0\n",
      "15  Sun, Oct 26       8896     708        161.0     104.0\n",
      "16  Mon, Oct 27       9535     759        233.0     124.0\n",
      "17  Tue, Oct 28       9363     736        154.0      91.0\n",
      "18  Wed, Oct 29       9327     739        196.0      86.0\n",
      "19  Thu, Oct 30       9345     734        167.0      75.0\n",
      "20  Fri, Oct 31       8890     706        174.0     101.0\n",
      "21   Sat, Nov 1       8460     681        156.0      93.0\n",
      "22   Sun, Nov 2       8836     693        206.0      67.0\n",
      "23   Mon, Nov 3       9437     788          NaN       NaN\n",
      "24   Tue, Nov 4       9420     781          NaN       NaN\n",
      "25   Wed, Nov 5       9570     805          NaN       NaN\n",
      "26   Thu, Nov 6       9921     830          NaN       NaN\n",
      "27   Fri, Nov 7       9424     781          NaN       NaN\n",
      "28   Sat, Nov 8       9010     756          NaN       NaN\n",
      "29   Sun, Nov 9       9656     825          NaN       NaN\n",
      "30  Mon, Nov 10      10419     874          NaN       NaN\n",
      "31  Tue, Nov 11       9880     830          NaN       NaN\n",
      "32  Wed, Nov 12      10134     801          NaN       NaN\n",
      "33  Thu, Nov 13       9717     814          NaN       NaN\n",
      "34  Fri, Nov 14       9192     735          NaN       NaN\n",
      "35  Sat, Nov 15       8630     743          NaN       NaN\n",
      "36  Sun, Nov 16       8970     722          NaN       NaN\n"
     ]
    }
   ],
   "source": [
    "con = pd.read_csv('control.csv')\n",
    "exp = pd.read_csv('experiment.csv')\n",
    "print(con)"
   ]
  },
  {
   "cell_type": "markdown",
   "metadata": {},
   "source": [
    "The meaning of each column is:\n",
    "- Pageviews: Number of unique cookies to view the course overview page that day.\n",
    "- Clicks: Number of unique cookies to click the course overview page that day.\n",
    "- Enrollments: Number of user-ids to enroll in the free trial that day.\n",
    "- Payments: Number of user-ids who who enrolled on that day to remain enrolled for 14 days and thus make a payment. (Note that the date for this column is the start date, that is, the date of enrollment, rather than the date of the payment. The payment happened 14 days later. Because of this, the enrollments and payments are tracked for 14 fewer days than the other columns.)"
   ]
  },
  {
   "cell_type": "markdown",
   "metadata": {},
   "source": [
    "Our three invariant metrics are cookies (pageviews), clicks and CTP (clicks/pageviews). Let's do sanity checks on them one by one."
   ]
  },
  {
   "cell_type": "markdown",
   "metadata": {},
   "source": [
    "- Pageview: number of unique cookies to view the course overview page"
   ]
  },
  {
   "cell_type": "code",
   "execution_count": 8,
   "metadata": {},
   "outputs": [
    {
     "name": "stdout",
     "output_type": "stream",
     "text": [
      "number of unique cookies to view the course page in the control group: 345543\n",
      "number of unique cookies to view the course page in the experiment group: 344660\n"
     ]
    }
   ],
   "source": [
    "cookies_con = con['Pageviews'].sum()\n",
    "cookies_exp = exp['Pageviews'].sum()\n",
    "cookies_total = cookies_con + cookies_exp\n",
    "print('number of unique cookies to view the course page in the control group:', cookies_con)\n",
    "print('number of unique cookies to view the course page in the experiment group:', cookies_exp)"
   ]
  },
  {
   "cell_type": "markdown",
   "metadata": {},
   "source": [
    "We eyeballed the numbers and they look close to each other. We expect the amount of pageviews in the control and experiment groups to be split even, roughtly 50% each. The expected probability of a sample getting assigned to the control group is 0.5. Next we alculate the standard deviation and confidence interval and check if the observed probability p_hat is within the confidence interval."
   ]
  },
  {
   "cell_type": "code",
   "execution_count": 9,
   "metadata": {},
   "outputs": [
    {
     "name": "stdout",
     "output_type": "stream",
     "text": [
      "Obersved p_hat 0.5006\n",
      "The confidence interval is (0.5012,0.4988)\n"
     ]
    }
   ],
   "source": [
    "p = 0.5\n",
    "p_hat = cookies_con/cookies_total\n",
    "sd = math.sqrt(p_hat*(1-p_hat)/cookies_total)\n",
    "m = 1.96*sd\n",
    "lower_bound, upper_bound = round(p+m,4), round(p-m,4)\n",
    "print('Obersved p_hat', round(p_hat,4))\n",
    "print('The confidence interval is ({},{})'.format(lower_bound,upper_bound))"
   ]
  },
  {
   "cell_type": "markdown",
   "metadata": {},
   "source": [
    "p_hat is within the confidence interval, which means the control and experiments are randomly split. The invariant metric cookies passed the sanity check."
   ]
  },
  {
   "cell_type": "markdown",
   "metadata": {},
   "source": [
    "- Clicks: Number of unique cookies to click the course overview page that day."
   ]
  },
  {
   "cell_type": "code",
   "execution_count": 10,
   "metadata": {},
   "outputs": [
    {
     "name": "stdout",
     "output_type": "stream",
     "text": [
      "number of unique cookies to click the course page in the control group: 28378\n",
      "number of unique cookies to click the course page in the experiment group: 28325\n"
     ]
    }
   ],
   "source": [
    "clicks_con = con['Clicks'].sum()\n",
    "clicks_exp = exp['Clicks'].sum()\n",
    "clicks_total = clicks_con + clicks_exp\n",
    "print('number of unique cookies to click the course page in the control group:', clicks_con)\n",
    "print('number of unique cookies to click the course page in the experiment group:', clicks_exp)"
   ]
  },
  {
   "cell_type": "code",
   "execution_count": 11,
   "metadata": {},
   "outputs": [
    {
     "name": "stdout",
     "output_type": "stream",
     "text": [
      "Observed p_hat 0.5005\n",
      "The confidence interval is (0.5041,0.4959)\n"
     ]
    }
   ],
   "source": [
    "p_hat = clicks_con/clicks_total\n",
    "sd = math.sqrt(p_hat*(1-p_hat)/clicks_total)\n",
    "m = 1.96*sd\n",
    "lower_bound, upper_bound = round(p+m,4), round(p-m,4)\n",
    "print('Observed p_hat', round(p_hat,4))\n",
    "print('The confidence interval is ({},{})'.format(lower_bound,upper_bound))"
   ]
  },
  {
   "cell_type": "markdown",
   "metadata": {},
   "source": [
    "- CTP (clicks/cookies)"
   ]
  },
  {
   "cell_type": "code",
   "execution_count": 12,
   "metadata": {},
   "outputs": [
    {
     "name": "stdout",
     "output_type": "stream",
     "text": [
      "Oberved difference 0.0001\n",
      "The confidence interval is (0.0013,-0.0013)\n"
     ]
    }
   ],
   "source": [
    "ctp_con = clicks_con/cookies_con\n",
    "ctp_exp = clicks_exp/cookies_exp\n",
    "d_hat = ctp_exp - ctp_con\n",
    "p_pooled = clicks_total/cookies_total\n",
    "sd_pooled = math.sqrt(p_pooled*(1-p_pooled)*(1/cookies_con+1/cookies_exp))\n",
    "m = 1.96*sd_pooled\n",
    "lower_bound, upper_bound = round(0+m,4), round(0-m,4)\n",
    "print('Oberved difference', round(d_hat,4))\n",
    "print('The confidence interval is ({},{})'.format(lower_bound,upper_bound))"
   ]
  },
  {
   "cell_type": "markdown",
   "metadata": {},
   "source": [
    "We can see they all three invariant metrics passed sanity checks."
   ]
  },
  {
   "cell_type": "markdown",
   "metadata": {},
   "source": [
    "### 6.2 Check for Practical and Statistical Significance<a class=\"anchor\" id=\"6.2\"></a>"
   ]
  },
  {
   "cell_type": "markdown",
   "metadata": {},
   "source": [
    "For **evaluation** metrics, give a 95% confidence level for the difference between the experiment and control groups, calculate its confidence interval. Check if each metric is statistically siginificant and practically significant. \n",
    "A metric is statistically significant if the confidence interval does not include 0 (i.e., we can be confident there was a change); and it is practically significant if the confidence interval does not include the practical significance boundary Dmin (i.e., you can be confident there is a change that matters to the business.)"
   ]
  },
  {
   "cell_type": "markdown",
   "metadata": {},
   "source": [
    "- Gross conversion"
   ]
  },
  {
   "cell_type": "markdown",
   "metadata": {},
   "source": [
    "Note: the spreadsheet provided by Udacity contains data for cookies and clicks for 37 days, and enrollments and payments for 23 days. So we we work with gross conversion and net conversion, we will only use the data for 23 days. We expect the gross conversion drops in the experimental group."
   ]
  },
  {
   "cell_type": "code",
   "execution_count": 13,
   "metadata": {},
   "outputs": [],
   "source": [
    "# Count the total clicks for the 23 days where the 'Enrollments' column is not NaN\n",
    "clicks_con = con['Clicks'].loc[con['Enrollments'].notnull()].sum()\n",
    "clicks_exp = exp['Clicks'].loc[exp['Enrollments'].notnull()].sum()"
   ]
  },
  {
   "cell_type": "code",
   "execution_count": 36,
   "metadata": {},
   "outputs": [
    {
     "name": "stdout",
     "output_type": "stream",
     "text": [
      "The change due to the experiment is -0.0206\n",
      "The confidence interval is (-0.0291,-0.012)\n"
     ]
    }
   ],
   "source": [
    "enrollments_con = con['Enrollments'].sum()\n",
    "enrollments_exp = exp['Enrollments'].sum()\n",
    "g_con = enrollments_con/clicks_con\n",
    "g_exp = enrollments_exp/clicks_exp\n",
    "g_diff = g_exp-g_con\n",
    "g_pooled = (enrollments_con+enrollments_exp)/(clicks_con+clicks_exp)\n",
    "g_sd = math.sqrt(g_pooled*(1-g_pooled)*(1/clicks_con+1/clicks_exp))\n",
    "m = 1.96*g_sd\n",
    "lower_bound, upper_bound = round(g_diff-m,4), round(g_diff+m,4)\n",
    "print('The change due to the experiment is {}'.format(round(g_diff,4)))\n",
    "print('The confidence interval is ({},{})'.format(lower_bound,upper_bound))"
   ]
  },
  {
   "cell_type": "markdown",
   "metadata": {},
   "source": [
    "The observed change is statistically significant since the confidence interval does not include 0. And it is practically significant since the confidence interval does not include the minimum detectable effect -0.01."
   ]
  },
  {
   "cell_type": "markdown",
   "metadata": {},
   "source": [
    "The change is both statiscally and practically signifcant. We have a negative change of 2.06%, which means the gross conversion rate in the experiment group has dropped 2.06% and this change is significant. This matches with our expecation, as when customers click the \"Start free trial\" button, they are asked how many hours they can dedicate to the study per week; this change should make customers think twice before they go ahead and enroll, hence the decrease gross conversion rate."
   ]
  },
  {
   "cell_type": "markdown",
   "metadata": {},
   "source": [
    "- Net conversion"
   ]
  },
  {
   "cell_type": "code",
   "execution_count": 15,
   "metadata": {},
   "outputs": [
    {
     "name": "stdout",
     "output_type": "stream",
     "text": [
      "The change due to the experiment is -0.0049\n",
      "The confidence interval is (-0.0116,0.0019)\n",
      "The observed change is statistically significant if the confidence interval does not include 0. And it is practically significant if it does not include the minimum detectable effect -0.0075.\n"
     ]
    }
   ],
   "source": [
    "payments_con = con['Payments'].sum()\n",
    "payments_exp = exp['Payments'].sum()\n",
    "n_con = payments_con/clicks_con\n",
    "n_exp = payments_exp/clicks_exp\n",
    "n_diff = n_exp-n_con\n",
    "n_pooled = (payments_con+payments_exp)/(clicks_con+clicks_exp)\n",
    "n_sd = math.sqrt(n_pooled*(1-n_pooled)*(1/clicks_con+1/clicks_exp))\n",
    "m = 1.96*n_sd\n",
    "lower_bound, upper_bound = round(n_diff-m,4), round(n_diff+m,4)\n",
    "print('The change due to the experiment is {}'.format(round(n_diff,4)))\n",
    "print('The confidence interval is ({},{})'.format(lower_bound,upper_bound))\n",
    "print('The observed change is statistically significant if the confidence interval does not include 0. And it is practically significant if it does not include the minimum detectable effect -0.0075.')"
   ]
  },
  {
   "cell_type": "markdown",
   "metadata": {},
   "source": [
    "We got a very small change of -0.49%, which is neither statistically significant, nor practically significant."
   ]
  },
  {
   "cell_type": "markdown",
   "metadata": {},
   "source": [
    "### 6.3 Sign tests<a class=\"anchor\" id=\"6.3\"></a>"
   ]
  },
  {
   "cell_type": "markdown",
   "metadata": {},
   "source": [
    "For each **evalution** metric, let's count day-by-day how many days in the experiment group is lower than the control group out of 23 days, and this is the number of successes for our binomial model. We then cauculate the p-value and compare it with alpha."
   ]
  },
  {
   "cell_type": "code",
   "execution_count": 24,
   "metadata": {},
   "outputs": [
    {
     "data": {
      "text/html": [
       "<div>\n",
       "<style scoped>\n",
       "    .dataframe tbody tr th:only-of-type {\n",
       "        vertical-align: middle;\n",
       "    }\n",
       "\n",
       "    .dataframe tbody tr th {\n",
       "        vertical-align: top;\n",
       "    }\n",
       "\n",
       "    .dataframe thead th {\n",
       "        text-align: right;\n",
       "    }\n",
       "</style>\n",
       "<table border=\"1\" class=\"dataframe\">\n",
       "  <thead>\n",
       "    <tr style=\"text-align: right;\">\n",
       "      <th></th>\n",
       "      <th>Date_con</th>\n",
       "      <th>Pageviews_con</th>\n",
       "      <th>Clicks_con</th>\n",
       "      <th>Enrollments_con</th>\n",
       "      <th>Payments_con</th>\n",
       "      <th>Date_exp</th>\n",
       "      <th>Pageviews_exp</th>\n",
       "      <th>Clicks_exp</th>\n",
       "      <th>Enrollments_exp</th>\n",
       "      <th>Payments_exp</th>\n",
       "    </tr>\n",
       "  </thead>\n",
       "  <tbody>\n",
       "    <tr>\n",
       "      <th>0</th>\n",
       "      <td>Sat, Oct 11</td>\n",
       "      <td>7723</td>\n",
       "      <td>687</td>\n",
       "      <td>134.0</td>\n",
       "      <td>70.0</td>\n",
       "      <td>Sat, Oct 11</td>\n",
       "      <td>7716</td>\n",
       "      <td>686</td>\n",
       "      <td>105.0</td>\n",
       "      <td>34.0</td>\n",
       "    </tr>\n",
       "    <tr>\n",
       "      <th>1</th>\n",
       "      <td>Sun, Oct 12</td>\n",
       "      <td>9102</td>\n",
       "      <td>779</td>\n",
       "      <td>147.0</td>\n",
       "      <td>70.0</td>\n",
       "      <td>Sun, Oct 12</td>\n",
       "      <td>9288</td>\n",
       "      <td>785</td>\n",
       "      <td>116.0</td>\n",
       "      <td>91.0</td>\n",
       "    </tr>\n",
       "    <tr>\n",
       "      <th>2</th>\n",
       "      <td>Mon, Oct 13</td>\n",
       "      <td>10511</td>\n",
       "      <td>909</td>\n",
       "      <td>167.0</td>\n",
       "      <td>95.0</td>\n",
       "      <td>Mon, Oct 13</td>\n",
       "      <td>10480</td>\n",
       "      <td>884</td>\n",
       "      <td>145.0</td>\n",
       "      <td>79.0</td>\n",
       "    </tr>\n",
       "    <tr>\n",
       "      <th>3</th>\n",
       "      <td>Tue, Oct 14</td>\n",
       "      <td>9871</td>\n",
       "      <td>836</td>\n",
       "      <td>156.0</td>\n",
       "      <td>105.0</td>\n",
       "      <td>Tue, Oct 14</td>\n",
       "      <td>9867</td>\n",
       "      <td>827</td>\n",
       "      <td>138.0</td>\n",
       "      <td>92.0</td>\n",
       "    </tr>\n",
       "    <tr>\n",
       "      <th>4</th>\n",
       "      <td>Wed, Oct 15</td>\n",
       "      <td>10014</td>\n",
       "      <td>837</td>\n",
       "      <td>163.0</td>\n",
       "      <td>64.0</td>\n",
       "      <td>Wed, Oct 15</td>\n",
       "      <td>9793</td>\n",
       "      <td>832</td>\n",
       "      <td>140.0</td>\n",
       "      <td>94.0</td>\n",
       "    </tr>\n",
       "    <tr>\n",
       "      <th>5</th>\n",
       "      <td>Thu, Oct 16</td>\n",
       "      <td>9670</td>\n",
       "      <td>823</td>\n",
       "      <td>138.0</td>\n",
       "      <td>82.0</td>\n",
       "      <td>Thu, Oct 16</td>\n",
       "      <td>9500</td>\n",
       "      <td>788</td>\n",
       "      <td>129.0</td>\n",
       "      <td>61.0</td>\n",
       "    </tr>\n",
       "    <tr>\n",
       "      <th>6</th>\n",
       "      <td>Fri, Oct 17</td>\n",
       "      <td>9008</td>\n",
       "      <td>748</td>\n",
       "      <td>146.0</td>\n",
       "      <td>76.0</td>\n",
       "      <td>Fri, Oct 17</td>\n",
       "      <td>9088</td>\n",
       "      <td>780</td>\n",
       "      <td>127.0</td>\n",
       "      <td>44.0</td>\n",
       "    </tr>\n",
       "    <tr>\n",
       "      <th>7</th>\n",
       "      <td>Sat, Oct 18</td>\n",
       "      <td>7434</td>\n",
       "      <td>632</td>\n",
       "      <td>110.0</td>\n",
       "      <td>70.0</td>\n",
       "      <td>Sat, Oct 18</td>\n",
       "      <td>7664</td>\n",
       "      <td>652</td>\n",
       "      <td>94.0</td>\n",
       "      <td>62.0</td>\n",
       "    </tr>\n",
       "    <tr>\n",
       "      <th>8</th>\n",
       "      <td>Sun, Oct 19</td>\n",
       "      <td>8459</td>\n",
       "      <td>691</td>\n",
       "      <td>131.0</td>\n",
       "      <td>60.0</td>\n",
       "      <td>Sun, Oct 19</td>\n",
       "      <td>8434</td>\n",
       "      <td>697</td>\n",
       "      <td>120.0</td>\n",
       "      <td>77.0</td>\n",
       "    </tr>\n",
       "    <tr>\n",
       "      <th>9</th>\n",
       "      <td>Mon, Oct 20</td>\n",
       "      <td>10667</td>\n",
       "      <td>861</td>\n",
       "      <td>165.0</td>\n",
       "      <td>97.0</td>\n",
       "      <td>Mon, Oct 20</td>\n",
       "      <td>10496</td>\n",
       "      <td>860</td>\n",
       "      <td>153.0</td>\n",
       "      <td>98.0</td>\n",
       "    </tr>\n",
       "    <tr>\n",
       "      <th>10</th>\n",
       "      <td>Tue, Oct 21</td>\n",
       "      <td>10660</td>\n",
       "      <td>867</td>\n",
       "      <td>196.0</td>\n",
       "      <td>105.0</td>\n",
       "      <td>Tue, Oct 21</td>\n",
       "      <td>10551</td>\n",
       "      <td>864</td>\n",
       "      <td>143.0</td>\n",
       "      <td>71.0</td>\n",
       "    </tr>\n",
       "    <tr>\n",
       "      <th>11</th>\n",
       "      <td>Wed, Oct 22</td>\n",
       "      <td>9947</td>\n",
       "      <td>838</td>\n",
       "      <td>162.0</td>\n",
       "      <td>92.0</td>\n",
       "      <td>Wed, Oct 22</td>\n",
       "      <td>9737</td>\n",
       "      <td>801</td>\n",
       "      <td>128.0</td>\n",
       "      <td>70.0</td>\n",
       "    </tr>\n",
       "    <tr>\n",
       "      <th>12</th>\n",
       "      <td>Thu, Oct 23</td>\n",
       "      <td>8324</td>\n",
       "      <td>665</td>\n",
       "      <td>127.0</td>\n",
       "      <td>56.0</td>\n",
       "      <td>Thu, Oct 23</td>\n",
       "      <td>8176</td>\n",
       "      <td>642</td>\n",
       "      <td>122.0</td>\n",
       "      <td>68.0</td>\n",
       "    </tr>\n",
       "    <tr>\n",
       "      <th>13</th>\n",
       "      <td>Fri, Oct 24</td>\n",
       "      <td>9434</td>\n",
       "      <td>673</td>\n",
       "      <td>220.0</td>\n",
       "      <td>122.0</td>\n",
       "      <td>Fri, Oct 24</td>\n",
       "      <td>9402</td>\n",
       "      <td>697</td>\n",
       "      <td>194.0</td>\n",
       "      <td>94.0</td>\n",
       "    </tr>\n",
       "    <tr>\n",
       "      <th>14</th>\n",
       "      <td>Sat, Oct 25</td>\n",
       "      <td>8687</td>\n",
       "      <td>691</td>\n",
       "      <td>176.0</td>\n",
       "      <td>128.0</td>\n",
       "      <td>Sat, Oct 25</td>\n",
       "      <td>8669</td>\n",
       "      <td>669</td>\n",
       "      <td>127.0</td>\n",
       "      <td>81.0</td>\n",
       "    </tr>\n",
       "    <tr>\n",
       "      <th>15</th>\n",
       "      <td>Sun, Oct 26</td>\n",
       "      <td>8896</td>\n",
       "      <td>708</td>\n",
       "      <td>161.0</td>\n",
       "      <td>104.0</td>\n",
       "      <td>Sun, Oct 26</td>\n",
       "      <td>8881</td>\n",
       "      <td>693</td>\n",
       "      <td>153.0</td>\n",
       "      <td>101.0</td>\n",
       "    </tr>\n",
       "    <tr>\n",
       "      <th>16</th>\n",
       "      <td>Mon, Oct 27</td>\n",
       "      <td>9535</td>\n",
       "      <td>759</td>\n",
       "      <td>233.0</td>\n",
       "      <td>124.0</td>\n",
       "      <td>Mon, Oct 27</td>\n",
       "      <td>9655</td>\n",
       "      <td>771</td>\n",
       "      <td>213.0</td>\n",
       "      <td>119.0</td>\n",
       "    </tr>\n",
       "    <tr>\n",
       "      <th>17</th>\n",
       "      <td>Tue, Oct 28</td>\n",
       "      <td>9363</td>\n",
       "      <td>736</td>\n",
       "      <td>154.0</td>\n",
       "      <td>91.0</td>\n",
       "      <td>Tue, Oct 28</td>\n",
       "      <td>9396</td>\n",
       "      <td>736</td>\n",
       "      <td>162.0</td>\n",
       "      <td>120.0</td>\n",
       "    </tr>\n",
       "    <tr>\n",
       "      <th>18</th>\n",
       "      <td>Wed, Oct 29</td>\n",
       "      <td>9327</td>\n",
       "      <td>739</td>\n",
       "      <td>196.0</td>\n",
       "      <td>86.0</td>\n",
       "      <td>Wed, Oct 29</td>\n",
       "      <td>9262</td>\n",
       "      <td>727</td>\n",
       "      <td>201.0</td>\n",
       "      <td>96.0</td>\n",
       "    </tr>\n",
       "    <tr>\n",
       "      <th>19</th>\n",
       "      <td>Thu, Oct 30</td>\n",
       "      <td>9345</td>\n",
       "      <td>734</td>\n",
       "      <td>167.0</td>\n",
       "      <td>75.0</td>\n",
       "      <td>Thu, Oct 30</td>\n",
       "      <td>9308</td>\n",
       "      <td>728</td>\n",
       "      <td>207.0</td>\n",
       "      <td>67.0</td>\n",
       "    </tr>\n",
       "    <tr>\n",
       "      <th>20</th>\n",
       "      <td>Fri, Oct 31</td>\n",
       "      <td>8890</td>\n",
       "      <td>706</td>\n",
       "      <td>174.0</td>\n",
       "      <td>101.0</td>\n",
       "      <td>Fri, Oct 31</td>\n",
       "      <td>8715</td>\n",
       "      <td>722</td>\n",
       "      <td>182.0</td>\n",
       "      <td>123.0</td>\n",
       "    </tr>\n",
       "    <tr>\n",
       "      <th>21</th>\n",
       "      <td>Sat, Nov 1</td>\n",
       "      <td>8460</td>\n",
       "      <td>681</td>\n",
       "      <td>156.0</td>\n",
       "      <td>93.0</td>\n",
       "      <td>Sat, Nov 1</td>\n",
       "      <td>8448</td>\n",
       "      <td>695</td>\n",
       "      <td>142.0</td>\n",
       "      <td>100.0</td>\n",
       "    </tr>\n",
       "    <tr>\n",
       "      <th>22</th>\n",
       "      <td>Sun, Nov 2</td>\n",
       "      <td>8836</td>\n",
       "      <td>693</td>\n",
       "      <td>206.0</td>\n",
       "      <td>67.0</td>\n",
       "      <td>Sun, Nov 2</td>\n",
       "      <td>8836</td>\n",
       "      <td>724</td>\n",
       "      <td>182.0</td>\n",
       "      <td>103.0</td>\n",
       "    </tr>\n",
       "    <tr>\n",
       "      <th>23</th>\n",
       "      <td>Mon, Nov 3</td>\n",
       "      <td>9437</td>\n",
       "      <td>788</td>\n",
       "      <td>NaN</td>\n",
       "      <td>NaN</td>\n",
       "      <td>Mon, Nov 3</td>\n",
       "      <td>9359</td>\n",
       "      <td>789</td>\n",
       "      <td>NaN</td>\n",
       "      <td>NaN</td>\n",
       "    </tr>\n",
       "    <tr>\n",
       "      <th>24</th>\n",
       "      <td>Tue, Nov 4</td>\n",
       "      <td>9420</td>\n",
       "      <td>781</td>\n",
       "      <td>NaN</td>\n",
       "      <td>NaN</td>\n",
       "      <td>Tue, Nov 4</td>\n",
       "      <td>9427</td>\n",
       "      <td>743</td>\n",
       "      <td>NaN</td>\n",
       "      <td>NaN</td>\n",
       "    </tr>\n",
       "    <tr>\n",
       "      <th>25</th>\n",
       "      <td>Wed, Nov 5</td>\n",
       "      <td>9570</td>\n",
       "      <td>805</td>\n",
       "      <td>NaN</td>\n",
       "      <td>NaN</td>\n",
       "      <td>Wed, Nov 5</td>\n",
       "      <td>9633</td>\n",
       "      <td>808</td>\n",
       "      <td>NaN</td>\n",
       "      <td>NaN</td>\n",
       "    </tr>\n",
       "    <tr>\n",
       "      <th>26</th>\n",
       "      <td>Thu, Nov 6</td>\n",
       "      <td>9921</td>\n",
       "      <td>830</td>\n",
       "      <td>NaN</td>\n",
       "      <td>NaN</td>\n",
       "      <td>Thu, Nov 6</td>\n",
       "      <td>9842</td>\n",
       "      <td>831</td>\n",
       "      <td>NaN</td>\n",
       "      <td>NaN</td>\n",
       "    </tr>\n",
       "    <tr>\n",
       "      <th>27</th>\n",
       "      <td>Fri, Nov 7</td>\n",
       "      <td>9424</td>\n",
       "      <td>781</td>\n",
       "      <td>NaN</td>\n",
       "      <td>NaN</td>\n",
       "      <td>Fri, Nov 7</td>\n",
       "      <td>9272</td>\n",
       "      <td>767</td>\n",
       "      <td>NaN</td>\n",
       "      <td>NaN</td>\n",
       "    </tr>\n",
       "    <tr>\n",
       "      <th>28</th>\n",
       "      <td>Sat, Nov 8</td>\n",
       "      <td>9010</td>\n",
       "      <td>756</td>\n",
       "      <td>NaN</td>\n",
       "      <td>NaN</td>\n",
       "      <td>Sat, Nov 8</td>\n",
       "      <td>8969</td>\n",
       "      <td>760</td>\n",
       "      <td>NaN</td>\n",
       "      <td>NaN</td>\n",
       "    </tr>\n",
       "    <tr>\n",
       "      <th>29</th>\n",
       "      <td>Sun, Nov 9</td>\n",
       "      <td>9656</td>\n",
       "      <td>825</td>\n",
       "      <td>NaN</td>\n",
       "      <td>NaN</td>\n",
       "      <td>Sun, Nov 9</td>\n",
       "      <td>9697</td>\n",
       "      <td>850</td>\n",
       "      <td>NaN</td>\n",
       "      <td>NaN</td>\n",
       "    </tr>\n",
       "    <tr>\n",
       "      <th>30</th>\n",
       "      <td>Mon, Nov 10</td>\n",
       "      <td>10419</td>\n",
       "      <td>874</td>\n",
       "      <td>NaN</td>\n",
       "      <td>NaN</td>\n",
       "      <td>Mon, Nov 10</td>\n",
       "      <td>10445</td>\n",
       "      <td>851</td>\n",
       "      <td>NaN</td>\n",
       "      <td>NaN</td>\n",
       "    </tr>\n",
       "    <tr>\n",
       "      <th>31</th>\n",
       "      <td>Tue, Nov 11</td>\n",
       "      <td>9880</td>\n",
       "      <td>830</td>\n",
       "      <td>NaN</td>\n",
       "      <td>NaN</td>\n",
       "      <td>Tue, Nov 11</td>\n",
       "      <td>9931</td>\n",
       "      <td>831</td>\n",
       "      <td>NaN</td>\n",
       "      <td>NaN</td>\n",
       "    </tr>\n",
       "    <tr>\n",
       "      <th>32</th>\n",
       "      <td>Wed, Nov 12</td>\n",
       "      <td>10134</td>\n",
       "      <td>801</td>\n",
       "      <td>NaN</td>\n",
       "      <td>NaN</td>\n",
       "      <td>Wed, Nov 12</td>\n",
       "      <td>10042</td>\n",
       "      <td>802</td>\n",
       "      <td>NaN</td>\n",
       "      <td>NaN</td>\n",
       "    </tr>\n",
       "    <tr>\n",
       "      <th>33</th>\n",
       "      <td>Thu, Nov 13</td>\n",
       "      <td>9717</td>\n",
       "      <td>814</td>\n",
       "      <td>NaN</td>\n",
       "      <td>NaN</td>\n",
       "      <td>Thu, Nov 13</td>\n",
       "      <td>9721</td>\n",
       "      <td>829</td>\n",
       "      <td>NaN</td>\n",
       "      <td>NaN</td>\n",
       "    </tr>\n",
       "    <tr>\n",
       "      <th>34</th>\n",
       "      <td>Fri, Nov 14</td>\n",
       "      <td>9192</td>\n",
       "      <td>735</td>\n",
       "      <td>NaN</td>\n",
       "      <td>NaN</td>\n",
       "      <td>Fri, Nov 14</td>\n",
       "      <td>9304</td>\n",
       "      <td>770</td>\n",
       "      <td>NaN</td>\n",
       "      <td>NaN</td>\n",
       "    </tr>\n",
       "    <tr>\n",
       "      <th>35</th>\n",
       "      <td>Sat, Nov 15</td>\n",
       "      <td>8630</td>\n",
       "      <td>743</td>\n",
       "      <td>NaN</td>\n",
       "      <td>NaN</td>\n",
       "      <td>Sat, Nov 15</td>\n",
       "      <td>8668</td>\n",
       "      <td>724</td>\n",
       "      <td>NaN</td>\n",
       "      <td>NaN</td>\n",
       "    </tr>\n",
       "    <tr>\n",
       "      <th>36</th>\n",
       "      <td>Sun, Nov 16</td>\n",
       "      <td>8970</td>\n",
       "      <td>722</td>\n",
       "      <td>NaN</td>\n",
       "      <td>NaN</td>\n",
       "      <td>Sun, Nov 16</td>\n",
       "      <td>8988</td>\n",
       "      <td>710</td>\n",
       "      <td>NaN</td>\n",
       "      <td>NaN</td>\n",
       "    </tr>\n",
       "  </tbody>\n",
       "</table>\n",
       "</div>"
      ],
      "text/plain": [
       "       Date_con  Pageviews_con  Clicks_con  Enrollments_con  Payments_con  \\\n",
       "0   Sat, Oct 11           7723         687            134.0          70.0   \n",
       "1   Sun, Oct 12           9102         779            147.0          70.0   \n",
       "2   Mon, Oct 13          10511         909            167.0          95.0   \n",
       "3   Tue, Oct 14           9871         836            156.0         105.0   \n",
       "4   Wed, Oct 15          10014         837            163.0          64.0   \n",
       "5   Thu, Oct 16           9670         823            138.0          82.0   \n",
       "6   Fri, Oct 17           9008         748            146.0          76.0   \n",
       "7   Sat, Oct 18           7434         632            110.0          70.0   \n",
       "8   Sun, Oct 19           8459         691            131.0          60.0   \n",
       "9   Mon, Oct 20          10667         861            165.0          97.0   \n",
       "10  Tue, Oct 21          10660         867            196.0         105.0   \n",
       "11  Wed, Oct 22           9947         838            162.0          92.0   \n",
       "12  Thu, Oct 23           8324         665            127.0          56.0   \n",
       "13  Fri, Oct 24           9434         673            220.0         122.0   \n",
       "14  Sat, Oct 25           8687         691            176.0         128.0   \n",
       "15  Sun, Oct 26           8896         708            161.0         104.0   \n",
       "16  Mon, Oct 27           9535         759            233.0         124.0   \n",
       "17  Tue, Oct 28           9363         736            154.0          91.0   \n",
       "18  Wed, Oct 29           9327         739            196.0          86.0   \n",
       "19  Thu, Oct 30           9345         734            167.0          75.0   \n",
       "20  Fri, Oct 31           8890         706            174.0         101.0   \n",
       "21   Sat, Nov 1           8460         681            156.0          93.0   \n",
       "22   Sun, Nov 2           8836         693            206.0          67.0   \n",
       "23   Mon, Nov 3           9437         788              NaN           NaN   \n",
       "24   Tue, Nov 4           9420         781              NaN           NaN   \n",
       "25   Wed, Nov 5           9570         805              NaN           NaN   \n",
       "26   Thu, Nov 6           9921         830              NaN           NaN   \n",
       "27   Fri, Nov 7           9424         781              NaN           NaN   \n",
       "28   Sat, Nov 8           9010         756              NaN           NaN   \n",
       "29   Sun, Nov 9           9656         825              NaN           NaN   \n",
       "30  Mon, Nov 10          10419         874              NaN           NaN   \n",
       "31  Tue, Nov 11           9880         830              NaN           NaN   \n",
       "32  Wed, Nov 12          10134         801              NaN           NaN   \n",
       "33  Thu, Nov 13           9717         814              NaN           NaN   \n",
       "34  Fri, Nov 14           9192         735              NaN           NaN   \n",
       "35  Sat, Nov 15           8630         743              NaN           NaN   \n",
       "36  Sun, Nov 16           8970         722              NaN           NaN   \n",
       "\n",
       "       Date_exp  Pageviews_exp  Clicks_exp  Enrollments_exp  Payments_exp  \n",
       "0   Sat, Oct 11           7716         686            105.0          34.0  \n",
       "1   Sun, Oct 12           9288         785            116.0          91.0  \n",
       "2   Mon, Oct 13          10480         884            145.0          79.0  \n",
       "3   Tue, Oct 14           9867         827            138.0          92.0  \n",
       "4   Wed, Oct 15           9793         832            140.0          94.0  \n",
       "5   Thu, Oct 16           9500         788            129.0          61.0  \n",
       "6   Fri, Oct 17           9088         780            127.0          44.0  \n",
       "7   Sat, Oct 18           7664         652             94.0          62.0  \n",
       "8   Sun, Oct 19           8434         697            120.0          77.0  \n",
       "9   Mon, Oct 20          10496         860            153.0          98.0  \n",
       "10  Tue, Oct 21          10551         864            143.0          71.0  \n",
       "11  Wed, Oct 22           9737         801            128.0          70.0  \n",
       "12  Thu, Oct 23           8176         642            122.0          68.0  \n",
       "13  Fri, Oct 24           9402         697            194.0          94.0  \n",
       "14  Sat, Oct 25           8669         669            127.0          81.0  \n",
       "15  Sun, Oct 26           8881         693            153.0         101.0  \n",
       "16  Mon, Oct 27           9655         771            213.0         119.0  \n",
       "17  Tue, Oct 28           9396         736            162.0         120.0  \n",
       "18  Wed, Oct 29           9262         727            201.0          96.0  \n",
       "19  Thu, Oct 30           9308         728            207.0          67.0  \n",
       "20  Fri, Oct 31           8715         722            182.0         123.0  \n",
       "21   Sat, Nov 1           8448         695            142.0         100.0  \n",
       "22   Sun, Nov 2           8836         724            182.0         103.0  \n",
       "23   Mon, Nov 3           9359         789              NaN           NaN  \n",
       "24   Tue, Nov 4           9427         743              NaN           NaN  \n",
       "25   Wed, Nov 5           9633         808              NaN           NaN  \n",
       "26   Thu, Nov 6           9842         831              NaN           NaN  \n",
       "27   Fri, Nov 7           9272         767              NaN           NaN  \n",
       "28   Sat, Nov 8           8969         760              NaN           NaN  \n",
       "29   Sun, Nov 9           9697         850              NaN           NaN  \n",
       "30  Mon, Nov 10          10445         851              NaN           NaN  \n",
       "31  Tue, Nov 11           9931         831              NaN           NaN  \n",
       "32  Wed, Nov 12          10042         802              NaN           NaN  \n",
       "33  Thu, Nov 13           9721         829              NaN           NaN  \n",
       "34  Fri, Nov 14           9304         770              NaN           NaN  \n",
       "35  Sat, Nov 15           8668         724              NaN           NaN  \n",
       "36  Sun, Nov 16           8988         710              NaN           NaN  "
      ]
     },
     "execution_count": 24,
     "metadata": {},
     "output_type": "execute_result"
    }
   ],
   "source": [
    "# Let's merge the two dataframes since we need to compare day-to-day gross conversion and net conversion in control and expeirment group\n",
    "combine = con.join(exp, how='inner',lsuffix='_con', rsuffix='_exp')\n",
    "combine"
   ]
  },
  {
   "cell_type": "code",
   "execution_count": 25,
   "metadata": {},
   "outputs": [
    {
     "data": {
      "text/plain": [
       "Date_con           37\n",
       "Pageviews_con      37\n",
       "Clicks_con         37\n",
       "Enrollments_con    23\n",
       "Payments_con       23\n",
       "Date_exp           37\n",
       "Pageviews_exp      37\n",
       "Clicks_exp         37\n",
       "Enrollments_exp    23\n",
       "Payments_exp       23\n",
       "dtype: int64"
      ]
     },
     "execution_count": 25,
     "metadata": {},
     "output_type": "execute_result"
    }
   ],
   "source": [
    "combine.count()"
   ]
  },
  {
   "cell_type": "code",
   "execution_count": 26,
   "metadata": {},
   "outputs": [
    {
     "data": {
      "text/plain": [
       "Date_con           23\n",
       "Pageviews_con      23\n",
       "Clicks_con         23\n",
       "Enrollments_con    23\n",
       "Payments_con       23\n",
       "Date_exp           23\n",
       "Pageviews_exp      23\n",
       "Clicks_exp         23\n",
       "Enrollments_exp    23\n",
       "Payments_exp       23\n",
       "dtype: int64"
      ]
     },
     "execution_count": 26,
     "metadata": {},
     "output_type": "execute_result"
    }
   ],
   "source": [
    "# We only need rows where Enrollments and Payments are not NaN\n",
    "combine = combine.loc[combine['Enrollments_con'].notnull()]\n",
    "combine.count()"
   ]
  },
  {
   "cell_type": "code",
   "execution_count": 35,
   "metadata": {},
   "outputs": [
    {
     "data": {
      "text/html": [
       "<div>\n",
       "<style scoped>\n",
       "    .dataframe tbody tr th:only-of-type {\n",
       "        vertical-align: middle;\n",
       "    }\n",
       "\n",
       "    .dataframe tbody tr th {\n",
       "        vertical-align: top;\n",
       "    }\n",
       "\n",
       "    .dataframe thead th {\n",
       "        text-align: right;\n",
       "    }\n",
       "</style>\n",
       "<table border=\"1\" class=\"dataframe\">\n",
       "  <thead>\n",
       "    <tr style=\"text-align: right;\">\n",
       "      <th></th>\n",
       "      <th>g_sign</th>\n",
       "      <th>n_sign</th>\n",
       "    </tr>\n",
       "  </thead>\n",
       "  <tbody>\n",
       "    <tr>\n",
       "      <th>0</th>\n",
       "      <td>0</td>\n",
       "      <td>0</td>\n",
       "    </tr>\n",
       "    <tr>\n",
       "      <th>1</th>\n",
       "      <td>0</td>\n",
       "      <td>1</td>\n",
       "    </tr>\n",
       "    <tr>\n",
       "      <th>2</th>\n",
       "      <td>0</td>\n",
       "      <td>0</td>\n",
       "    </tr>\n",
       "    <tr>\n",
       "      <th>3</th>\n",
       "      <td>0</td>\n",
       "      <td>0</td>\n",
       "    </tr>\n",
       "    <tr>\n",
       "      <th>4</th>\n",
       "      <td>0</td>\n",
       "      <td>1</td>\n",
       "    </tr>\n",
       "    <tr>\n",
       "      <th>5</th>\n",
       "      <td>0</td>\n",
       "      <td>0</td>\n",
       "    </tr>\n",
       "    <tr>\n",
       "      <th>6</th>\n",
       "      <td>0</td>\n",
       "      <td>0</td>\n",
       "    </tr>\n",
       "    <tr>\n",
       "      <th>7</th>\n",
       "      <td>0</td>\n",
       "      <td>0</td>\n",
       "    </tr>\n",
       "    <tr>\n",
       "      <th>8</th>\n",
       "      <td>0</td>\n",
       "      <td>1</td>\n",
       "    </tr>\n",
       "    <tr>\n",
       "      <th>9</th>\n",
       "      <td>0</td>\n",
       "      <td>1</td>\n",
       "    </tr>\n",
       "    <tr>\n",
       "      <th>10</th>\n",
       "      <td>0</td>\n",
       "      <td>0</td>\n",
       "    </tr>\n",
       "    <tr>\n",
       "      <th>11</th>\n",
       "      <td>0</td>\n",
       "      <td>0</td>\n",
       "    </tr>\n",
       "    <tr>\n",
       "      <th>12</th>\n",
       "      <td>0</td>\n",
       "      <td>1</td>\n",
       "    </tr>\n",
       "    <tr>\n",
       "      <th>13</th>\n",
       "      <td>0</td>\n",
       "      <td>0</td>\n",
       "    </tr>\n",
       "    <tr>\n",
       "      <th>14</th>\n",
       "      <td>0</td>\n",
       "      <td>0</td>\n",
       "    </tr>\n",
       "    <tr>\n",
       "      <th>15</th>\n",
       "      <td>0</td>\n",
       "      <td>0</td>\n",
       "    </tr>\n",
       "    <tr>\n",
       "      <th>16</th>\n",
       "      <td>0</td>\n",
       "      <td>0</td>\n",
       "    </tr>\n",
       "    <tr>\n",
       "      <th>17</th>\n",
       "      <td>1</td>\n",
       "      <td>1</td>\n",
       "    </tr>\n",
       "    <tr>\n",
       "      <th>18</th>\n",
       "      <td>1</td>\n",
       "      <td>1</td>\n",
       "    </tr>\n",
       "    <tr>\n",
       "      <th>19</th>\n",
       "      <td>1</td>\n",
       "      <td>0</td>\n",
       "    </tr>\n",
       "    <tr>\n",
       "      <th>20</th>\n",
       "      <td>1</td>\n",
       "      <td>1</td>\n",
       "    </tr>\n",
       "    <tr>\n",
       "      <th>21</th>\n",
       "      <td>0</td>\n",
       "      <td>1</td>\n",
       "    </tr>\n",
       "    <tr>\n",
       "      <th>22</th>\n",
       "      <td>0</td>\n",
       "      <td>1</td>\n",
       "    </tr>\n",
       "  </tbody>\n",
       "</table>\n",
       "</div>"
      ],
      "text/plain": [
       "    g_sign  n_sign\n",
       "0        0       0\n",
       "1        0       1\n",
       "2        0       0\n",
       "3        0       0\n",
       "4        0       1\n",
       "5        0       0\n",
       "6        0       0\n",
       "7        0       0\n",
       "8        0       1\n",
       "9        0       1\n",
       "10       0       0\n",
       "11       0       0\n",
       "12       0       1\n",
       "13       0       0\n",
       "14       0       0\n",
       "15       0       0\n",
       "16       0       0\n",
       "17       1       1\n",
       "18       1       1\n",
       "19       1       0\n",
       "20       1       1\n",
       "21       0       1\n",
       "22       0       1"
      ]
     },
     "execution_count": 35,
     "metadata": {},
     "output_type": "execute_result"
    }
   ],
   "source": [
    "# We calcuate gross conversion and net conversion, then compare the day-to-day data from control and experiment group.\n",
    "# If the experiment value is larger than the control group, the sign is 1, otherwise 0.\n",
    "combine.loc[:,'g_con'] = combine['Enrollments_con']/combine['Clicks_con']\n",
    "combine.loc[:,'g_exp'] = combine['Enrollments_exp']/combine['Clicks_exp']\n",
    "combine.loc[:,'g_sign'] = np.where(combine['g_exp']>combine['g_con'],1,0)\n",
    "combine.loc[:,'n_con'] = combine['Payments_con']/combine['Clicks_con']\n",
    "combine.loc[:,'n_exp'] = combine['Payments_exp']/combine['Clicks_exp']\n",
    "combine.loc[:,'n_sign'] = np.where(combine['n_exp']>combine['n_con'],1,0)\n",
    "combine[['g_sign','n_sign']]"
   ]
  },
  {
   "cell_type": "code",
   "execution_count": 21,
   "metadata": {},
   "outputs": [
    {
     "name": "stdout",
     "output_type": "stream",
     "text": [
      "Number of Days where gross conversion in the experiment is larger than that in the control group: 4\n",
      "Number of Days where net conversion in the experiment is larger than that in the control group: 10\n",
      "Total number of days: 23\n"
     ]
    }
   ],
   "source": [
    "g_sum = sum(combine['g_sign'])\n",
    "n_sum = sum(combine['n_sign'])\n",
    "total = combine.shape[0]\n",
    "print('Number of Days where gross conversion in the experiment is larger than that in the control group:',g_sum)\n",
    "print('Number of Days where net conversion in the experiment is larger than that in the control group:',n_sum)\n",
    "print('Total number of days:',total)"
   ]
  },
  {
   "cell_type": "markdown",
   "metadata": {},
   "source": [
    "Now let's calculate the p-value using the binomial distribution equation.\n",
    "<br>\n",
    "<center><font size=\"4\"> $p(successes )=\\frac{n!}{x!(n-x)!}p^x(1-p)^{n-x}$ </font></center>"
   ]
  },
  {
   "cell_type": "markdown",
   "metadata": {},
   "source": [
    "After we count the number of days in which the experiment has a higher metric value than that of the control group (we define this event is a \"success\"), we need to decide if the p-value is statistically significant (< 0.05). On any day, if the event is a \"success\" or not is random, therefore _p_ = 0.5. n is total number of days, which is 23. x is the number of days being a \"success\" (the value in the experiment group is larger than that in the control group).\n",
    "\n",
    "$p-value$ is the probability of observing an event equal to or more extreme than that observed. If we observed 4 successes, the $p-value$ for the test is:\n",
    "<br>\n",
    "<center>$P(x<=4)=P(0)+P(1)+P(2)+P(3)+P(4)$.</center><br>\n",
    "\n",
    "Because this is a two-tailed test, $p-value$ will be doubled and compared to 0.05."
   ]
  },
  {
   "cell_type": "code",
   "execution_count": 22,
   "metadata": {},
   "outputs": [],
   "source": [
    "from scipy.stats import binom\n",
    "n = 23\n",
    "p = 0.5\n",
    "# define a function that calculate the two-tailed p-value for a given x\n",
    "def twotail_pvalue(x,n,p):\n",
    "    p_x = sum(binom.pmf(i,n,p) for i in range(x+1))\n",
    "    return round(2*p_x,4)"
   ]
  },
  {
   "cell_type": "code",
   "execution_count": 23,
   "metadata": {},
   "outputs": [
    {
     "name": "stdout",
     "output_type": "stream",
     "text": [
      "0.0026\n",
      "0.6776\n"
     ]
    }
   ],
   "source": [
    "g_pvalue = twotail_pvalue(g_sum,n,p)\n",
    "n_pvalue = twotail_pvalue(n_sum,n,p)\n",
    "print(g_pvalue)\n",
    "print(n_pvalue)"
   ]
  },
  {
   "cell_type": "markdown",
   "metadata": {},
   "source": [
    "|Evaluation metrics|p-value for the sign test|Statiscally significant at alpha=0.05|\n",
    "|:----------------:|:-----------------------:|:-----------------------------------:|\n",
    "|Gross conversion|0.0026|Yes|\n",
    "|Net conversion|0.6776|No|"
   ]
  },
  {
   "cell_type": "markdown",
   "metadata": {},
   "source": [
    "The sensitivity of a sign test is usually lower than that of a effect size test. Still, we get the same conclusion from the sign test as we get from the effect size test above. The change in gross conversion is significant, while the change in net conversion is not."
   ]
  },
  {
   "cell_type": "markdown",
   "metadata": {},
   "source": [
    "## 7. Conclusion and Recommendation<a class=\"anchor\" id=\"7\"></a>"
   ]
  },
  {
   "cell_type": "markdown",
   "metadata": {},
   "source": [
    "We wanted to determine if making a change after a student clicks the \"start free trial\" button can have a significant impact on gross conversion rate and net conversion. Therefor, we designed an A/B Testing experiment. Udacity students (tracked by cookies) were directed randomly into two groups, control and experiment. After clicking the \"start free trial\" button, the experiment group was asked how many hours per week they can devote to learning, while the control group was not.\n",
    "\n",
    "Three invariant metrics (number of cookies, number of clicks and Click-Through-Probability) were chosen and have passed sanity checks. Gross conversion (enrollments/cookies) and net conversion (payments/cookies) were chosen as evaluation metrics. Practical significance threasholds (Dmin) were set for each evaluation metrics.\n",
    "\n",
    "The null hypothesis H<sub>0</sub> that there is no significant difference in the evaluation metrics between the two groups. To reject the null hypothesis, the difference between the groups should be statitically significant, as well as exceed Dmin, for **all** evaluation metrics.\n",
    "\n",
    "The experiment results showed that gross conversion was found to be statisticcaly significant with alpha = 0.05, and exceeded the practical significance threahold. Net conversion, on the other hand, is neither statistically significant nor practically significant."
   ]
  },
  {
   "cell_type": "markdown",
   "metadata": {},
   "source": [
    "The purpose of the A/B testin experiment was to determine if by adding a step qualifying if a student can dedicate enough study time, we can improve the overall student experimence, thus reducing the number of frustrated students who left the free trial because they didn't have enough time; while at the same time without significantly reducing the number of students to continue past the free trial. A statistically and practically significant drop in gross conversion was observed; however, no significant change in net conversion was observed. This means a descrease in enrollment, and at the same time no increase in students staying past the 14 day free trial leading to payment. Based on the results, we do not recommend lauching the change at the moment without conducting follow-up experiments."
   ]
  },
  {
   "cell_type": "markdown",
   "metadata": {},
   "source": [
    "## 8. Follow-up Experiment<a class=\"anchor\" id=\"8\"></a>"
   ]
  },
  {
   "cell_type": "markdown",
   "metadata": {},
   "source": [
    "Retention (payments/enrollments) was initially chosen as an evaluation metrics but we didn't run the experiment using this metric or calculate its statistical significance, because it would take about 5 months to achieve the required pageviews. In reality where data are different and it might not need 5 months to achieve the required sample size, a company might decide retention is an important metric we are interested in and we want to keep track of it. If a statistically significant and practically significant retention change is observed, it means we are seeing more students are staying and paying after the 14 day trial period ends, out of all the students who are enrolled, and we would recommend launching the experiment."
   ]
  }
 ],
 "metadata": {
  "kernelspec": {
   "display_name": "Python 3",
   "language": "python",
   "name": "python3"
  },
  "language_info": {
   "codemirror_mode": {
    "name": "ipython",
    "version": 3
   },
   "file_extension": ".py",
   "mimetype": "text/x-python",
   "name": "python",
   "nbconvert_exporter": "python",
   "pygments_lexer": "ipython3",
   "version": "3.7.6"
  }
 },
 "nbformat": 4,
 "nbformat_minor": 4
}

